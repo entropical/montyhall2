{
 "cells": [
  {
   "cell_type": "code",
   "execution_count": 1,
   "metadata": {},
   "outputs": [],
   "source": [
    "import random\n",
    "num_doors = 100\n",
    "\n",
    "\n",
    "\n",
    "# Helper function, to print FFFFFFTFFFF, instead of False, False, False, etc.\n",
    "def p(arr):\n",
    "    ret = \"\"\n",
    "    if(isinstance(arr, list)):\n",
    "        for element in arr:\n",
    "            if(element == None):\n",
    "                ret += \".\"\n",
    "            elif(element):\n",
    "                ret += \"T\"\n",
    "            else:\n",
    "                ret += \"F\"\n",
    "        return ret\n",
    "    else:\n",
    "        if(arr):\n",
    "            ret += \"T\"\n",
    "        else:\n",
    "            ret += \"F\"\n",
    "    return ret\n",
    "       \n",
    "\n",
    "#\n",
    "# Initialise all doors to False. \n",
    "#\n",
    "doors = []\n",
    "for door in range(num_doors):\n",
    "    doors.append(False)\n",
    "\n",
    "\n",
    "    \n",
    "#\n",
    "# Set one door as winner, at random\n",
    "#\n",
    "doors[random.randint(0, num_doors - 1)] = True\n"
   ]
  },
  {
   "cell_type": "code",
   "execution_count": 2,
   "metadata": {},
   "outputs": [
    {
     "name": "stdout",
     "output_type": "stream",
     "text": [
      "All Doors: FFFFFFFFFFFFFFFFFFFFFFFFFFFFFFFFFFFFFFFFFFFFFFFFFFFFFFFFFFFFFFFFTFFFFFFFFFFFFFFFFFFFFFFFFFFFFFFFFFFF\n",
      "\n",
      "My Selection: Door 65: F\n",
      "Other doors:  FFFFFFFFFFFFFFFFFFFFFFFFFFFFFFFFFFFFFFFFFFFFFFFFFFFFFFFFFFFFFFFFTFFFFFFFFFFFFFFFFFFFFFFFFFFFFFFFFFF\n",
      "\n",
      "The reveal!\n",
      "Other doors: ................................................................T..................................\n"
     ]
    }
   ],
   "source": [
    "print(f\"All Doors: {p(doors)}\")\n",
    "print()\n",
    "\n",
    "#\n",
    "# Make our selection, at random.\n",
    "#\n",
    "\n",
    "selection_index = random.randint(0, num_doors-1)\n",
    "selection = doors.pop(selection_index)\n",
    "\n",
    "print(f\"My Selection: Door {selection_index-1}: {p(selection)}\")\n",
    "print(f\"Other doors:  {p(doors)}\")\n",
    "\n",
    "#\n",
    "# The reveal!\n",
    "# For the Other Doors, open all but one door, but never opening a winning door.\n",
    "#\n",
    "\n",
    "doors_to_remove = len(doors) - 1\n",
    "for door in range(0,len(doors)):\n",
    "    if(doors[door]):\n",
    "        # Do not remove winning door\n",
    "        pass\n",
    "    elif(doors_to_remove):\n",
    "        # Remov losing door\n",
    "        doors[door] = None\n",
    "        doors_to_remove -= 1\n",
    "        \n",
    "\n",
    "#\n",
    "# Show the result\n",
    "#\n",
    "\n",
    "print()\n",
    "print(\"The reveal!\")\n",
    "print(f\"Other doors: {p(doors)}\")"
   ]
  }
 ],
 "metadata": {
  "kernelspec": {
   "display_name": "Python 3",
   "language": "python",
   "name": "python3"
  },
  "language_info": {
   "codemirror_mode": {
    "name": "ipython",
    "version": 3
   },
   "file_extension": ".py",
   "mimetype": "text/x-python",
   "name": "python",
   "nbconvert_exporter": "python",
   "pygments_lexer": "ipython3",
   "version": "3.6.13"
  }
 },
 "nbformat": 4,
 "nbformat_minor": 2
}